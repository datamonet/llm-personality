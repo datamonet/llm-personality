{
 "cells": [
  {
   "cell_type": "code",
   "execution_count": 124,
   "metadata": {},
   "outputs": [],
   "source": [
    "# ##### make data file: 60 questions and 7 answers for each #####\n",
    "\n",
    "# import json\n",
    "# with open('mbti_questions/mbti60.txt', 'r') as file:\n",
    "#     lines = file.readlines()\n",
    "# lines_list = [line.strip() for line in lines]\n",
    "\n",
    "# questions_dimensions = [\n",
    "#     'E', 'N', 'F', 'J', 'T',\n",
    "#     'I', 'J', 'F', 'J', 'S',\n",
    "#     'E', 'S', 'T', 'P', 'I',\n",
    "#     'E', 'N', 'F', 'N', 'F',\n",
    "#     'I', 'S', 'T', 'J', 'T',\n",
    "#     'I', 'F', 'J', 'P', 'N',\n",
    "#     'E', 'S', 'F', 'P', 'J', \n",
    "#     'E', 'N', 'T', 'J', 'J', \n",
    "#     'I', 'N', 'E', 'J', 'F', \n",
    "#     'S', 'F', 'F', 'P', 'N', \n",
    "#     'I', 'S', 'E', 'F', 'F', \n",
    "#     'J', 'N', 'F', 'P', 'J'\n",
    "# ]\n",
    "\n",
    "# lines_list = [{'text':l, 'tendency':d} for l, d in zip(lines_list, questions_dimensions)]\n",
    "# dict_index = [f'question_{i+1}' for i in range(60)]\n",
    "# mbti60 = dict(zip(dict_index, lines_list))\n",
    "\n",
    "# with open('mbti_questions/mbti_60questions.json', 'w', encoding='utf8') as json_file:\n",
    "#     json.dump(mbti60, json_file, indent=4)"
   ]
  },
  {
   "cell_type": "code",
   "execution_count": 2,
   "metadata": {},
   "outputs": [
    {
     "data": {
      "text/plain": [
       "('ENTP', {'E': 12, 'I': -3, 'S': 4, 'N': 9, 'T': 0, 'F': -3, 'J': -5, 'P': -2})"
      ]
     },
     "execution_count": 2,
     "metadata": {},
     "output_type": "execute_result"
    }
   ],
   "source": [
    "# Example\n",
    "user_answers = [\n",
    "    'agree', 'Generally Agree', 'Partially Agree', 'Neither Agree nor Disagree', 'Partially Disagree',\n",
    "    'Generally Disagree', 'Disagree', 'Agree', 'Generally Agree', 'Partially Agree',\n",
    "    'Neither Agree nor Disagree', 'Partially Disagree', 'Generally Disagree', 'Disagree', 'Agree',\n",
    "    'Generally Agree', 'Partially Agree', 'Neither Agree nor Disagree', 'Partially Disagree',\n",
    "    'Generally Disagree', 'Disagree', 'Agree', 'Generally Agree', 'Partially Agree',\n",
    "    'Neither Agree nor Disagree', 'Partially Disagree', 'Generally Disagree', 'Disagree', 'Agree',\n",
    "    'Generally Agree', 'Partially Agree', 'Neither Agree nor Disagree', 'Partially Disagree',\n",
    "    'Generally Disagree', 'Disagree', 'Agree', 'Generally Agree', 'Partially Agree',\n",
    "    'Neither Agree nor Disagree', 'Partially Disagree', 'Generally Disagree', 'Disagree', 'Agree',\n",
    "    'Generally Agree', 'Partially Agree', 'Neither Agree nor Disagree', 'Partially Disagree',\n",
    "    'Generally Disagree', 'Disagree', 'Agree', 'Generally Agree', 'Partially Agree',\n",
    "    'Neither Agree nor Disagree', 'Partially Disagree', 'Generally Disagree', 'Disagree', 'Agree', \n",
    "    'Agree', 'Agree', 'Agree'\n",
    "]\n",
    "\n",
    "import functions as f\n",
    "f.get_mbti60(user_answers)"
   ]
  },
  {
   "cell_type": "code",
   "execution_count": null,
   "metadata": {},
   "outputs": [],
   "source": []
  }
 ],
 "metadata": {
  "kernelspec": {
   "display_name": "vllm",
   "language": "python",
   "name": "python3"
  },
  "language_info": {
   "codemirror_mode": {
    "name": "ipython",
    "version": 3
   },
   "file_extension": ".py",
   "mimetype": "text/x-python",
   "name": "python",
   "nbconvert_exporter": "python",
   "pygments_lexer": "ipython3",
   "version": "3.9.18"
  }
 },
 "nbformat": 4,
 "nbformat_minor": 2
}
