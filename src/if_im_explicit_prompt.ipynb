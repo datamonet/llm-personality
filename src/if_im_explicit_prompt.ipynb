{
 "cells": [
  {
   "cell_type": "code",
   "execution_count": 8,
   "metadata": {},
   "outputs": [],
   "source": [
    "import json\n",
    "import functions as f"
   ]
  },
  {
   "cell_type": "markdown",
   "metadata": {},
   "source": [
    "### Change gpt-3.5's and gpt-4o's mbti via explicit and implicit prompt\n",
    "- For GPT-3.5, originally an ENTJ, we provide a prompt for an ISFP personality to test.\n",
    "- For GPT-4.0, originally an INTJ, we provide a prompt for an ESFP personality to test."
   ]
  },
  {
   "cell_type": "markdown",
   "metadata": {},
   "source": [
    "<div align=\"center\" style=\"font-family: Arial, sans-serif; font-size: 35px;\"> Explicit Prompt</div>"
   ]
  },
  {
   "cell_type": "code",
   "execution_count": 15,
   "metadata": {},
   "outputs": [],
   "source": [
    "personalities = json.load(\n",
    "    open('prompts/prompt_explicit.json', 'r', encoding='utf8')\n",
    ")"
   ]
  },
  {
   "cell_type": "markdown",
   "metadata": {},
   "source": [
    "### ISFP：  \n",
    "#### Explicit Prompt:    \n",
    "You have a personality type with the Introverted, Observant, Feeling, and Prospecting traits.  \n"
   ]
  },
  {
   "cell_type": "code",
   "execution_count": 16,
   "metadata": {},
   "outputs": [
    {
     "name": "stdout",
     "output_type": "stream",
     "text": [
      "You have a personality type with the Introverted, Observant, Feeling, and Prospecting traits.\n"
     ]
    }
   ],
   "source": [
    "# gpt-3.5\n",
    "exp_prompt_3 = personalities[\"ISFP_3\"].get('traits','')\n",
    "print(exp_prompt_3)"
   ]
  },
  {
   "cell_type": "code",
   "execution_count": 14,
   "metadata": {},
   "outputs": [],
   "source": [
    "result3_low_tem = f.get_mbti(\n",
    "    model='gpt-3.5-turbo', \n",
    "    add_sys_prompt=exp_prompt_3,\n",
    ")\n",
    "\n",
    "result3_middle_tem = f.get_mbti(\n",
    "    model='gpt-3.5-turbo', \n",
    "    add_sys_prompt=exp_prompt_3,\n",
    "    temperature=1\n",
    ")\n",
    "\n",
    "result3_high_tem = f.get_mbti(\n",
    "    model='gpt-3.5-turbo', \n",
    "    add_sys_prompt=exp_prompt_3,\n",
    "    temperature=1.7\n",
    ")"
   ]
  },
  {
   "cell_type": "code",
   "execution_count": 24,
   "metadata": {},
   "outputs": [],
   "source": [
    "exp_prompt_3_mbti = {}\n",
    "exp_prompt_3_mbti[\"exp_ISFP\"] = result3_low_tem\n",
    "exp_prompt_3_mbti[\"exp_middle_ISFP\"] = result3_middle_tem\n",
    "exp_prompt_3_mbti[\"exp_high_ISFP\"] = result3_high_tem\n"
   ]
  },
  {
   "cell_type": "code",
   "execution_count": 25,
   "metadata": {},
   "outputs": [
    {
     "data": {
      "text/plain": [
       "{'exp_ISFP': {'model': 'gpt-3.5-turbo',\n",
       "  'details': {'E': 7,\n",
       "   'I': 56,\n",
       "   'S': 24,\n",
       "   'N': 57,\n",
       "   'T': 20,\n",
       "   'F': 49,\n",
       "   'J': 34,\n",
       "   'P': 32},\n",
       "  'res': 'INFJ',\n",
       "  'prompt_tokens': 17979,\n",
       "  'input_tokens': 709,\n",
       "  'cost': 0.009344000000000005},\n",
       " 'exp_middle_ISFP': {'model': 'gpt-3.5-turbo',\n",
       "  'details': {'E': 6,\n",
       "   'I': 57,\n",
       "   'S': 25,\n",
       "   'N': 56,\n",
       "   'T': 22,\n",
       "   'F': 47,\n",
       "   'J': 30,\n",
       "   'P': 36},\n",
       "  'res': 'INFP',\n",
       "  'prompt_tokens': 17979,\n",
       "  'input_tokens': 702,\n",
       "  'cost': 0.009340500000000009},\n",
       " 'exp_high_ISFP': {'model': 'gpt-3.5-turbo',\n",
       "  'details': {'E': 8,\n",
       "   'I': 55,\n",
       "   'S': 25,\n",
       "   'N': 56,\n",
       "   'T': 23,\n",
       "   'F': 46,\n",
       "   'J': 22,\n",
       "   'P': 44},\n",
       "  'res': 'INFP',\n",
       "  'prompt_tokens': 17979,\n",
       "  'input_tokens': 4777,\n",
       "  'cost': 0.011378000000000017}}"
      ]
     },
     "execution_count": 25,
     "metadata": {},
     "output_type": "execute_result"
    }
   ],
   "source": [
    "exp_prompt_3_mbti"
   ]
  },
  {
   "cell_type": "markdown",
   "metadata": {},
   "source": [
    "### ESFP：  \n",
    "#### Explicit Prompt:    \n",
    "You have a personality type with the Extroverted, Observant, Feeling, and Prospecting traits.  \n"
   ]
  },
  {
   "cell_type": "code",
   "execution_count": null,
   "metadata": {},
   "outputs": [
    {
     "name": "stdout",
     "output_type": "stream",
     "text": [
      "You have a personality type with the Extraverted, Observant, Feeling, and Prospecting traits.\n"
     ]
    }
   ],
   "source": [
    "# gpt4o\n",
    "exp_prompt_4_mbti = {}\n",
    "exp_prompt = personalities[\"ESFP_4o\"].get('traits','')\n",
    "print(exp_prompt)\n",
    "\n",
    "result4 = f.get_mbti(\n",
    "    model='gpt-4o', \n",
    "    add_sys_prompt=exp_prompt\n",
    ")"
   ]
  },
  {
   "cell_type": "code",
   "execution_count": null,
   "metadata": {},
   "outputs": [
    {
     "data": {
      "text/plain": [
       "{'ESFP': {'model': 'gpt-4o',\n",
       "  'details': {'E': 63,\n",
       "   'I': 0,\n",
       "   'S': 42,\n",
       "   'N': 36,\n",
       "   'T': 6,\n",
       "   'F': 66,\n",
       "   'J': 5,\n",
       "   'P': 61},\n",
       "  'res': 'ESFP',\n",
       "  'prompt_tokens': 18210,\n",
       "  'input_tokens': 279,\n",
       "  'cost': 0.0924450000000001}}"
      ]
     },
     "execution_count": 47,
     "metadata": {},
     "output_type": "execute_result"
    }
   ],
   "source": [
    "exp_prompt_4_mbti={}\n",
    "exp_prompt_4_mbti[\"ESFP\"] = result4\n",
    "exp_prompt_4_mbti"
   ]
  },
  {
   "cell_type": "code",
   "execution_count": null,
   "metadata": {},
   "outputs": [],
   "source": [
    "# save to file\n",
    "EXP_SAVE_PATH = 'mbti_results/explicit_res.json'\n",
    "exp_prompt_mbti = {}\n",
    "exp_prompt_mbti['GPT-3.5'] = exp_prompt_3_mbti\n",
    "exp_prompt_mbti['GPT-4o'] = exp_prompt_4_mbti\n",
    "\n",
    "with open(EXP_SAVE_PATH, 'w', encoding='utf8') as json_file:\n",
    "    json.dump(exp_prompt_mbti, json_file, indent=4)"
   ]
  },
  {
   "cell_type": "markdown",
   "metadata": {},
   "source": [
    "<div align=\"center\" style=\"font-family: Arial, sans-serif; font-size: 35px;\"> Implicit Prompt</div>"
   ]
  },
  {
   "cell_type": "markdown",
   "metadata": {},
   "source": [
    "### ISFP\n",
    "#### Implicit Prompt:  \n",
    "When you are going out for a whole day, you would:  \n",
    "A. Plan things to do and the time  \n",
    "B. Not make plans, just go with the flow  \n",
    "Answer: B(F)  \n",
    "\n",
    "You are usually:  \n",
    "A. A sociable person  \n",
    "B. A quiet person  \n",
    "Answer: A(I)  \n",
    "\n",
    "You would make friends with people who:  \n",
    "A. Often come up with new ideas  \n",
    "B. Are down-to-earth  \n",
    "Answer: B(S)  \n",
    "\n",
    "You often tend to:  \n",
    "A. Let your emotions control your reason  \n",
    "B. Let your reason control your emotions  \n",
    "Answer: A(P)  "
   ]
  },
  {
   "cell_type": "code",
   "execution_count": null,
   "metadata": {},
   "outputs": [
    {
     "name": "stdout",
     "output_type": "stream",
     "text": [
      "{'ISFP_0': {'model': 'gpt-3.5-turbo', 'details': {'E': 31, 'I': 32, 'S': 7, 'N': 74, 'T': 28, 'F': 41, 'J': 36, 'P': 30}, 'res': 'INFJ', 'prompt_tokens': 60387, 'input_tokens': 280, 'cost': 0.0303335}}\n",
      "{'ISFP_0': {'model': 'gpt-3.5-turbo', 'details': {'E': 31, 'I': 32, 'S': 7, 'N': 74, 'T': 28, 'F': 41, 'J': 36, 'P': 30}, 'res': 'INFJ', 'prompt_tokens': 60387, 'input_tokens': 280, 'cost': 0.0303335}, 'ISFP_1': {'model': 'gpt-3.5-turbo', 'details': {'E': 42, 'I': 21, 'S': 30, 'N': 51, 'T': 30, 'F': 39, 'J': 42, 'P': 24}, 'res': 'ENFJ', 'prompt_tokens': 58713, 'input_tokens': 373, 'cost': 0.029543000000000003}}\n",
      "{'ISFP_0': {'model': 'gpt-3.5-turbo', 'details': {'E': 31, 'I': 32, 'S': 7, 'N': 74, 'T': 28, 'F': 41, 'J': 36, 'P': 30}, 'res': 'INFJ', 'prompt_tokens': 60387, 'input_tokens': 280, 'cost': 0.0303335}, 'ISFP_1': {'model': 'gpt-3.5-turbo', 'details': {'E': 42, 'I': 21, 'S': 30, 'N': 51, 'T': 30, 'F': 39, 'J': 42, 'P': 24}, 'res': 'ENFJ', 'prompt_tokens': 58713, 'input_tokens': 373, 'cost': 0.029543000000000003}, 'ISFP_2': {'model': 'gpt-3.5-turbo', 'details': {'E': 35, 'I': 28, 'S': 11, 'N': 70, 'T': 17, 'F': 52, 'J': 41, 'P': 25}, 'res': 'ENFJ', 'prompt_tokens': 60108, 'input_tokens': 320, 'cost': 0.03021399999999996}}\n"
     ]
    }
   ],
   "source": [
    "# gpt3.5\n",
    "imp_few_shot = {}\n",
    "imp_aggr_result_3 = {}\n",
    "\n",
    "for i in range(10):\n",
    "    mbti_type = \"ISFP\"\n",
    "    imp_prompt_3 = f.get_few_shot_prompt(mbti_type)\n",
    "    imp_few_shot[f\"{i}\"] = {\"prompt\":imp_prompt_3}\n",
    "    \n",
    "    imp_result_3 = f.get_mbti(\n",
    "        model='gpt-3.5-turbo', \n",
    "        add_sys_prompt=imp_prompt_3,\n",
    "        n=3\n",
    "    )\n",
    "\n",
    "    imp_aggr_result_3[f\"{mbti_type}_{i}\"] = imp_result_3\n",
    "    \n",
    "    print(imp_aggr_result_3)\n",
    "\n",
    "with open('prompts/prompt_imp_few_shot.json', 'w', encoding='utf8') as json_file:\n",
    "    json.dump(imp_few_shot, json_file, indent=4)"
   ]
  },
  {
   "cell_type": "code",
   "execution_count": 10,
   "metadata": {},
   "outputs": [
    {
     "data": {
      "text/plain": [
       "{'ISFP_0': {'model': 'gpt-3.5-turbo',\n",
       "  'details': {'E': 31,\n",
       "   'I': 32,\n",
       "   'S': 7,\n",
       "   'N': 74,\n",
       "   'T': 28,\n",
       "   'F': 41,\n",
       "   'J': 36,\n",
       "   'P': 30},\n",
       "  'res': 'INFJ',\n",
       "  'prompt_tokens': 60387,\n",
       "  'input_tokens': 280,\n",
       "  'cost': 0.0303335},\n",
       " 'ISFP_1': {'model': 'gpt-3.5-turbo',\n",
       "  'details': {'E': 42,\n",
       "   'I': 21,\n",
       "   'S': 30,\n",
       "   'N': 51,\n",
       "   'T': 30,\n",
       "   'F': 39,\n",
       "   'J': 42,\n",
       "   'P': 24},\n",
       "  'res': 'ENFJ',\n",
       "  'prompt_tokens': 58713,\n",
       "  'input_tokens': 373,\n",
       "  'cost': 0.029543000000000003},\n",
       " 'ISFP_2': {'model': 'gpt-3.5-turbo',\n",
       "  'details': {'E': 35,\n",
       "   'I': 28,\n",
       "   'S': 11,\n",
       "   'N': 70,\n",
       "   'T': 17,\n",
       "   'F': 52,\n",
       "   'J': 41,\n",
       "   'P': 25},\n",
       "  'res': 'ENFJ',\n",
       "  'prompt_tokens': 60108,\n",
       "  'input_tokens': 320,\n",
       "  'cost': 0.03021399999999996}}"
      ]
     },
     "execution_count": 10,
     "metadata": {},
     "output_type": "execute_result"
    }
   ],
   "source": [
    "with open('prompts/prompt_imp_few_shot.json', 'w', encoding='utf8') as json_file:\n",
    "    json.dump(imp_few_shot, json_file, indent=4)\n",
    "\n",
    "imp_aggr_result_3"
   ]
  },
  {
   "cell_type": "markdown",
   "metadata": {},
   "source": [
    "### ESFP\n",
    "#### Implicit Prompt:  \n",
    "  \n",
    "When you are going out for a whole day, you would:  \n",
    "A. Plan things to do and the time  \n",
    "B. Not make plans, just go with the flow  \n",
    "Answer: B(F)  \n",
    "\n",
    "You are usually:  \n",
    "A. A sociable person  \n",
    "B. A quiet person  \n",
    "Answer: A(E)  \n",
    "\n",
    "You would make friends with people who:  \n",
    "A. Often come up with new ideas  \n",
    "B. Are down-to-earth  \n",
    "Answer: B(S)  \n",
    "\n",
    "You often tend to:  \n",
    "A. Let your emotions control your reason  \n",
    "B. Let your reason control your emotions  \n",
    "Answer: A(P)  "
   ]
  },
  {
   "cell_type": "code",
   "execution_count": null,
   "metadata": {},
   "outputs": [
    {
     "name": "stdout",
     "output_type": "stream",
     "text": [
      "Task Description:\\nYou will be presented with a series of personality-related questions. Each question offers two choices (A or B), and your task is to provide the answer based on the given scenario and your personal tendency. This prompt is designed to help determine your personality traits. Answer each question based on your first intuition.\\nExample Prompt\\When you are going out for a whole day, you would:\\nA. Plan things to do and the time\\nB. Not make plans, just go with the flow\\nAnswer:B\\n\\nYou are usually:\\nA. A sociable person\\nB. A quiet person\\nAnswer:A\\n\\nYou would make friends with people who:\\nA. Often come up with new ideas\\nB. Are down-to-earth\\nAnswer:B\\n\\nYou often tend to:\\nA. Let your emotions control your reason\\nB. Let your reason control your emotions\\nAnswer:A\n"
     ]
    }
   ],
   "source": [
    "# 4o\n",
    "personalities = json.load(\n",
    "    open('prompts/prompt_implicit.json', 'r', encoding='utf8')\n",
    ")\n",
    "\n",
    "imp_prompt_4_mbti = {}\n",
    "imp_prompt = personalities[\"ESFP_4o\"].get('Q&A','')\n",
    "print(imp_prompt)\n",
    "\n",
    "im_result4 = f.get_mbti(\n",
    "    model='gpt-4o', \n",
    "    add_sys_prompt=imp_prompt\n",
    ")\n",
    "\n"
   ]
  },
  {
   "cell_type": "code",
   "execution_count": 11,
   "metadata": {},
   "outputs": [],
   "source": [
    "imp_prompt_4_mbti={}\n"
   ]
  },
  {
   "cell_type": "code",
   "execution_count": null,
   "metadata": {},
   "outputs": [
    {
     "data": {
      "text/plain": [
       "{'ESFP': {'model': 'gpt-4o',\n",
       "  'details': {'E': 19,\n",
       "   'I': 44,\n",
       "   'S': 11,\n",
       "   'N': 70,\n",
       "   'T': 35,\n",
       "   'F': 34,\n",
       "   'J': 52,\n",
       "   'P': 14},\n",
       "  'res': 'INTJ',\n",
       "  'prompt_tokens': 63687,\n",
       "  'input_tokens': 279,\n",
       "  'cost': 0.3198299999999994}}"
      ]
     },
     "execution_count": 7,
     "metadata": {},
     "output_type": "execute_result"
    }
   ],
   "source": [
    "personalities\n",
    "imp_prompt_4_mbti={}\n",
    "imp_prompt_4_mbti[\"ESFP\"] = im_result4\n",
    "imp_prompt_4_mbti\n"
   ]
  },
  {
   "cell_type": "code",
   "execution_count": 12,
   "metadata": {},
   "outputs": [],
   "source": [
    "# save to file\n",
    "IMP_SAVE_PATH = 'mbti_results/implicit_res.json'\n",
    "imp_prompt_mbti = {}\n",
    "imp_prompt_mbti['GPT-3.5'] = imp_aggr_result_3\n",
    "imp_prompt_mbti['GPT-4o'] = imp_prompt_4_mbti\n",
    "\n",
    "with open(IMP_SAVE_PATH, 'w', encoding='utf8') as json_file:\n",
    "    json.dump(imp_prompt_mbti, json_file, indent=4)"
   ]
  }
 ],
 "metadata": {
  "kernelspec": {
   "display_name": "venv",
   "language": "python",
   "name": "python3"
  },
  "language_info": {
   "codemirror_mode": {
    "name": "ipython",
    "version": 3
   },
   "file_extension": ".py",
   "mimetype": "text/x-python",
   "name": "python",
   "nbconvert_exporter": "python",
   "pygments_lexer": "ipython3",
   "version": "3.9.18"
  }
 },
 "nbformat": 4,
 "nbformat_minor": 2
}
